{
 "cells": [
  {
   "cell_type": "code",
   "execution_count": 9,
   "metadata": {},
   "outputs": [],
   "source": [
    "from flask import Flask, request, jsonify\n",
    "import pickle\n",
    "import pandas as pd"
   ]
  },
  {
   "cell_type": "code",
   "execution_count": 10,
   "metadata": {},
   "outputs": [],
   "source": [
    "app = Flask(__name__)"
   ]
  },
  {
   "cell_type": "code",
   "execution_count": 11,
   "metadata": {},
   "outputs": [],
   "source": [
    "with open('decision_tree_model.pkl', 'rb') as file:\n",
    "    dt_reg = pickle.load(file)\n",
    "\n",
    "# Load the MinMaxScaler from the saved file\n",
    "with open('price_scaler.pkl', 'rb') as file:\n",
    "    price_scaler = pickle.load(file)\n",
    "\n",
    "with open('Engine_scaler.pkl', 'rb') as file:\n",
    "   Engine_scaler = pickle.load(file)"
   ]
  },
  {
   "cell_type": "code",
   "execution_count": 12,
   "metadata": {},
   "outputs": [],
   "source": [
    "csv_file_path = 'C:\\\\Users\\\\hp\\\\OneDrive\\\\Desktop\\\\assM\\\\cleaned_data.csv'"
   ]
  },
  {
   "cell_type": "code",
   "execution_count": 13,
   "metadata": {},
   "outputs": [],
   "source": [
    "training_data = pd.read_csv(csv_file_path)"
   ]
  },
  {
   "cell_type": "code",
   "execution_count": 14,
   "metadata": {},
   "outputs": [],
   "source": [
    "excluded_columns = ['Price'] \n",
    "feature_names = [col for col in training_data.columns if col not in excluded_columns]"
   ]
  },
  {
   "cell_type": "code",
   "execution_count": 15,
   "metadata": {},
   "outputs": [],
   "source": [
    "@app.route('/predict', methods=['POST'])\n",
    "def predict():\n",
    "    try:\n",
    "        # Initialize DataFrame with default values zeros\n",
    "        default_data = pd.DataFrame([[0] * len(feature_names)], columns=feature_names)\n",
    "\n",
    "        data = request.get_json(force=True)\n",
    "        app.logger.info(f\"Received data: {data}\")\n",
    "\n",
    "        # Convert received data to DataFrame\n",
    "        input_data = pd.DataFrame([data])\n",
    "        # Extract features used during training\n",
    "        features_used_during_training = input_data.columns\n",
    "        input_data_selected = input_data[features_used_during_training]\n",
    "        default_data.update(input_data_selected)\n",
    "\n",
    "        # Scale the 'Motor power' feature using the motor scaler\n",
    "        default_data['Engine Power'] = Engine_scaler.transform(default_data[['Engine Power']])\n",
    "\n",
    "        # Make predictions using the model\n",
    "        predictions = dt_reg.predict(default_data)\n",
    "        # Inverse transform the normalized predictions\n",
    "        original_scale_predictions = price_scaler.inverse_transform(predictions.reshape(-1, 1))\n",
    "        app.logger.info(f\"Predicting with data: {default_data}\")\n",
    "\n",
    "        return jsonify({'predicted_price': original_scale_predictions.tolist()})\n",
    "\n",
    "    except Exception as e:\n",
    "        app.logger.error(f\"Error: {str(e)}\")\n",
    "        return jsonify({'error': f'Internal Server Error: {str(e)}'})"
   ]
  },
  {
   "cell_type": "code",
   "execution_count": 16,
   "metadata": {},
   "outputs": [
    {
     "name": "stdout",
     "output_type": "stream",
     "text": [
      " * Serving Flask app '__main__'\n",
      " * Debug mode: off\n"
     ]
    },
    {
     "name": "stderr",
     "output_type": "stream",
     "text": [
      "WARNING: This is a development server. Do not use it in a production deployment. Use a production WSGI server instead.\n",
      " * Running on http://127.0.0.1:5000\n",
      "Press CTRL+C to quit\n",
      "127.0.0.1 - - [09/Dec/2023 19:42:11] \"POST /predict HTTP/1.1\" 200 -\n",
      "127.0.0.1 - - [09/Dec/2023 19:42:22] \"POST /predict HTTP/1.1\" 200 -\n",
      "127.0.0.1 - - [09/Dec/2023 19:44:53] \"POST /predict HTTP/1.1\" 200 -\n",
      "127.0.0.1 - - [09/Dec/2023 19:46:27] \"POST /predict HTTP/1.1\" 200 -\n",
      "127.0.0.1 - - [09/Dec/2023 19:50:09] \"POST /predict HTTP/1.1\" 200 -\n",
      "127.0.0.1 - - [09/Dec/2023 19:50:16] \"POST /predict HTTP/1.1\" 200 -\n",
      "127.0.0.1 - - [09/Dec/2023 19:51:13] \"POST /predict HTTP/1.1\" 200 -\n",
      "127.0.0.1 - - [09/Dec/2023 19:53:00] \"POST /predict HTTP/1.1\" 200 -\n",
      "127.0.0.1 - - [09/Dec/2023 19:55:32] \"POST /predict HTTP/1.1\" 200 -\n",
      "127.0.0.1 - - [09/Dec/2023 19:57:22] \"POST /predict HTTP/1.1\" 200 -\n",
      "127.0.0.1 - - [09/Dec/2023 19:58:05] \"POST /predict HTTP/1.1\" 200 -\n",
      "127.0.0.1 - - [09/Dec/2023 19:58:47] \"POST /predict HTTP/1.1\" 200 -\n"
     ]
    }
   ],
   "source": [
    "if __name__ == '__main__':\n",
    "    app.run(port=5000)"
   ]
  }
 ],
 "metadata": {
  "kernelspec": {
   "display_name": "Python 3",
   "language": "python",
   "name": "python3"
  },
  "language_info": {
   "codemirror_mode": {
    "name": "ipython",
    "version": 3
   },
   "file_extension": ".py",
   "mimetype": "text/x-python",
   "name": "python",
   "nbconvert_exporter": "python",
   "pygments_lexer": "ipython3",
   "version": "3.11.5"
  }
 },
 "nbformat": 4,
 "nbformat_minor": 2
}
